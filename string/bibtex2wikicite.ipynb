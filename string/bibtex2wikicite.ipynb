{
 "cells": [
  {
   "cell_type": "code",
   "execution_count": 1,
   "metadata": {
    "colab": {},
    "colab_type": "code",
    "id": "7TodUW8ibYDR"
   },
   "outputs": [],
   "source": [
    "import re"
   ]
  },
  {
   "cell_type": "code",
   "execution_count": 2,
   "metadata": {
    "colab": {},
    "colab_type": "code",
    "id": "X83_nKId4GyJ"
   },
   "outputs": [],
   "source": [
    "def findbracket(string,brackets=\"{}\"):\n",
    "    '''\n",
    "    Return the substrings in the first layer of the bracket {}\n",
    "    '''\n",
    "    lb = brackets[0]\n",
    "    rb = brackets[1]\n",
    "    nlayer = 0\n",
    "    value = \"\"\n",
    "    varlist = []\n",
    "    left = \"\" # substrings not in brackes\n",
    "    leftlist = []\n",
    "    for s in string:\n",
    "        if s==lb: nlayer += 1\n",
    "        if s==rb: nlayer -= 1\n",
    "        if nlayer>0: value += s\n",
    "        else: left += s\n",
    "        if nlayer==0 and len(value)!=0:\n",
    "            value = value[1:] # don't include left bracket\n",
    "            varlist.append(value.strip())\n",
    "            value = \"\"\n",
    "            left = left[:-1] # don't include right bracket\n",
    "            leftlist.append(left.strip())\n",
    "            left = \"\"\n",
    "    return varlist, leftlist"
   ]
  },
  {
   "cell_type": "code",
   "execution_count": 3,
   "metadata": {
    "colab": {},
    "colab_type": "code",
    "id": "Y9AffUPhF796"
   },
   "outputs": [],
   "source": [
    "def journalconverter(journal):\n",
    "    if   journal == '\\\\apj': return '{{ApJ}}'\n",
    "    elif journal == '\\\\apjl': return '{{ApJL}}'\n",
    "    elif journal == '\\\\aj': return '{{AJ}}'\n",
    "    elif journal == '\\\\mnras': return '{{MNRAS}}'\n",
    "    elif journal == '\\\\aap': return '{{A&A}}'\n",
    "    elif journal == '\\\\aaps': return '{{A&A}} Supplement'\n",
    "    elif journal == '\\\\aapr': return '{{A&AR}}'\n",
    "    elif journal == '\\\\araa': return '{{ARAA}}'\n",
    "    elif journal == '\\\\nat': return '{{Nature}}'\n",
    "    elif journal == 'Nature Astronomy': return '{{Nature}} Astronomy'\n",
    "    elif journal == 'Science': return '[[Science]]'\n",
    "    elif journal == 'Physical Review Letters': return '{{PRL}}'\n",
    "    elif journal == '\\\\prd': return '{{PRD}}'\n",
    "    elif journal == '\\\\physrep': return '{{PhR}}'\n",
    "    else: return journal"
   ]
  },
  {
   "cell_type": "code",
   "execution_count": 4,
   "metadata": {
    "colab": {},
    "colab_type": "code",
    "id": "NbEWZ0_tWHLa"
   },
   "outputs": [],
   "source": [
    "def clear_nonenglish(string):\n",
    "    '''\n",
    "    Clear non-English letters in string\n",
    "    '''\n",
    "    latex = [\"\\\\\\\\`\", \"\\\\\\\\'\", \"\\\\\\\\^\", '\\\\\\\\\"', \"\\\\\\\\H\", \"\\\\\\\\~\", \"\\\\\\\\c\",\\\n",
    "             \"\\\\\\\\k\", \"\\\\\\\\=\", \"\\\\\\\\b\",\"\\\\\\\\\\.\", \"\\\\\\\\d\", \"\\\\\\\\r\", \"\\\\\\\\u\",\\\n",
    "             \"\\\\\\\\v\"]\n",
    "    unico = ['\\u0300','\\u0301','\\u0302','\\u0308','\\u030B','\\u0303','\\u0327',\\\n",
    "             '\\u0328','\\u0304','\\u0332','\\u0307','\\u0323','\\u030A','\\u0306',\\\n",
    "             '\\u030C']\n",
    "    string = string.replace(\"\\\\ll\",'\\u0142') # do l with stroke\n",
    "    for i in range(len(latex)):\n",
    "        string = re.sub(latex[i]+\"(.)\",\"\\\\1\"+unico[i],string)\n",
    "    return string"
   ]
  },
  {
   "cell_type": "code",
   "execution_count": 5,
   "metadata": {
    "colab": {},
    "colab_type": "code",
    "id": "AzopIBAxDuXv"
   },
   "outputs": [],
   "source": [
    "def paras2wikicite(paras):\n",
    "    '''\n",
    "    Input: dictionary\n",
    "    Output: wikicite string\n",
    "    '''\n",
    "    keys = ['last1', 'first1', 'last2', 'first2', 'last3', 'first3', 'last4',\\\n",
    "            'editor1-last', 'editor1-first', 'editor2-last', 'editor2-first',\\\n",
    "            'editor3-last', 'editor3-first', 'editor4-last', 'title',\\\n",
    "            'chapter', 'journal', 'year', 'series', 'volume', 'issue',\\\n",
    "            'number', 'pages', 'arxiv', 'doi', 'bibcode']\n",
    "    # deal with books\n",
    "    if paras['reftype']=='BOOK':\n",
    "        if 'booktitle' in paras.keys(): _=paras.pop('booktitle')\n",
    "        outstr = \"* {{cite book | \"\n",
    "    elif 'booktitle' in paras.keys():\n",
    "        outstr = \"* {{cite book | \"\n",
    "        if 'title' in paras.keys(): paras['chapter'] = paras.pop('title')\n",
    "        if 'booktitle' in paras.keys(): paras['title'] = paras.pop('booktitle')\n",
    "    else: outstr = \"* {{cite journal | \"\n",
    "\n",
    "    for key in keys:\n",
    "        if key in paras.keys():\n",
    "            if key == 'last4':\n",
    "                outstr += 'display-authors = etal | '\n",
    "            elif key == 'editor4-last':\n",
    "                outstr += 'display-editors = etal | '\n",
    "            else:\n",
    "                outstr += (key+' = '+paras[key]+' | ')\n",
    "    outstr += 'ref = harv}}'\n",
    "    return outstr"
   ]
  },
  {
   "cell_type": "code",
   "execution_count": 6,
   "metadata": {
    "colab": {},
    "colab_type": "code",
    "id": "QDFvmGQr1acm"
   },
   "outputs": [],
   "source": [
    "def find_key_val(string):\n",
    "    '''\n",
    "    Return keys and values [list] for string like \"... key = value, ...\"\n",
    "    '''\n",
    "    keys=[]\n",
    "    values=[]\n",
    "    while ',' in string:\n",
    "        keys.append(string[:string.find('=')].replace(',','').strip())\n",
    "        string = string[string.find('=')+1:]\n",
    "        values.append(string[:string.find(',')].strip())\n",
    "        string = string[string.find(',')+1:]\n",
    "    if len(values[-1])==0:\n",
    "        keys = keys[:-1]\n",
    "        values = values[:-1]\n",
    "    return keys, values"
   ]
  },
  {
   "cell_type": "code",
   "execution_count": 7,
   "metadata": {
    "colab": {},
    "colab_type": "code",
    "id": "M1Y0uNmTECiJ"
   },
   "outputs": [],
   "source": [
    "def split_authors(paras):\n",
    "    '''\n",
    "    Input dictionary paras\n",
    "    Return dictionary paras, authors and editors modified\n",
    "    '''\n",
    "    for authortype in ['author','editor']:\n",
    "        if authortype in paras.keys():\n",
    "            authorlist = paras[authortype].split(' and ')\n",
    "            for i,author in enumerate(authorlist):\n",
    "                names = author.split(',')\n",
    "                last = names[0].strip()\n",
    "                first = ','.join(names[1:]).strip()\n",
    "                n = str(i+1)\n",
    "                if authortype == 'author':\n",
    "                    paras['first'+n] = first\n",
    "                    paras['last'+n] = last\n",
    "                elif authortype == 'editor':\n",
    "                    paras['editor'+n+'-first'] = first\n",
    "                    paras['editor'+n+'-last'] = last\n",
    "    return paras\n"
   ]
  },
  {
   "cell_type": "code",
   "execution_count": 8,
   "metadata": {
    "colab": {},
    "colab_type": "code",
    "id": "q8sLvmBRa6EB"
   },
   "outputs": [],
   "source": [
    "def bibtex2wikicite(string):\n",
    "    '''\n",
    "    Input bibtex code, return wikicite code\n",
    "    '''\n",
    "    # find first layer {} \n",
    "    mainpart, reftype = findbracket(string)\n",
    "    reftype = reftype[0].strip().lstrip('@')\n",
    "    # find second layer {}\n",
    "    values, prekeys = findbracket(mainpart[0])\n",
    "    # form keys\n",
    "    bibcode=prekeys[0].split(',')[0].strip()\n",
    "    keys=[key[key.rfind(',')+1:key.rfind('=')].strip() for key in prekeys]\n",
    "    # form dictionary\n",
    "    paras = dict(zip(keys,values))\n",
    "    paras['bibcode'] = bibcode\n",
    "    paras['reftype'] = reftype # ARTICLE/BOOK/INPROCEEDINGS etc\n",
    "    # deal with additional paras without {}\n",
    "    for key in prekeys:\n",
    "        addkey, addval = find_key_val(key)\n",
    "        for i in range(len(addkey)):\n",
    "            paras[addkey[i]] = addval[i]\n",
    "    # deal with values\n",
    "    for k in paras.keys(): \n",
    "        paras[k] = paras[k].replace('{','').replace('}','') # remove {}s\n",
    "        paras[k] = clear_nonenglish(paras[k].strip()) # clear non-letter\n",
    "        paras[k] = paras[k].replace('~',' ').replace('\"','') # replace ~,\"\n",
    "\n",
    "    # deal with authors\n",
    "    paras = split_authors(paras)\n",
    "    # deal with arviv parameter\n",
    "    if 'eprint' in paras.keys() and 'archivePrefix' in paras.keys() and \\\n",
    "    paras['archivePrefix']=='arXiv':\n",
    "        paras['arxiv'] = paras.pop('eprint')\n",
    "    if 'journal' in paras.keys():\n",
    "        paras['journal'] = journalconverter(paras['journal'])\n",
    "        if paras['journal']=='arXiv e-prints':\n",
    "            if 'year' in paras.keys() and not paras['year'].isnumeric():\n",
    "                paras['year'] = '20'+paras['year'].split(':')[1][:2]\n",
    "            if 'pages' in paras.keys():\n",
    "                paras.pop('pages')\n",
    "    # title no periods\n",
    "    for noperiod in ['title', 'booktitle']:\n",
    "        if noperiod in paras.keys():\n",
    "            paras[noperiod] = paras[noperiod].strip('.')\n",
    "\n",
    "    # dictionary to wikicite code\n",
    "    return paras2wikicite(paras)"
   ]
  },
  {
   "cell_type": "code",
   "execution_count": null,
   "metadata": {
    "colab": {
     "base_uri": "https://localhost:8080/",
     "height": 71
    },
    "colab_type": "code",
    "executionInfo": {
     "elapsed": 1708,
     "status": "ok",
     "timestamp": 1575316744034,
     "user": {
      "displayName": "Charles Douglas",
      "photoUrl": "https://lh3.googleusercontent.com/a-/AAuE7mC8sXOsvB9JH9H9UtkunGUz7NLQqU-FrqGArVZl=s64",
      "userId": "05050102593357277629"
     },
     "user_tz": 300
    },
    "id": "xaTfCregqlqc",
    "outputId": "0d6dd7b1-b318-4ca9-ef32-142dc5d12655",
    "scrolled": false
   },
   "outputs": [],
   "source": [
    "if __name__ == '__main__':\n",
    "        string = input(\"Bibtex code:\")\n",
    "        print (bibtex2wikicite(string))"
   ]
  },
  {
   "cell_type": "code",
   "execution_count": null,
   "metadata": {
    "colab": {},
    "colab_type": "code",
    "id": "tgORY_0gK8LL"
   },
   "outputs": [],
   "source": []
  }
 ],
 "metadata": {
  "colab": {
   "collapsed_sections": [],
   "name": "bibtex2wikicite.ipynb",
   "provenance": [],
   "toc_visible": true
  },
  "kernelspec": {
   "display_name": "Python 3",
   "language": "python",
   "name": "python3"
  },
  "language_info": {
   "codemirror_mode": {
    "name": "ipython",
    "version": 3
   },
   "file_extension": ".py",
   "mimetype": "text/x-python",
   "name": "python",
   "nbconvert_exporter": "python",
   "pygments_lexer": "ipython3",
   "version": "3.7.1"
  }
 },
 "nbformat": 4,
 "nbformat_minor": 1
}
